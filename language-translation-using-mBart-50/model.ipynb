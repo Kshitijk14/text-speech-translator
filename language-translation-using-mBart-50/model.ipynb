{
 "cells": [
  {
   "cell_type": "code",
   "execution_count": 1,
   "metadata": {},
   "outputs": [
    {
     "name": "stdout",
     "output_type": "stream",
     "text": [
      "Requirement already satisfied: streamlit in c:\\users\\hp\\documents\\github\\text-speech-translator\\.venv\\lib\\site-packages (1.31.1)\n",
      "Requirement already satisfied: sentencepiece in c:\\users\\hp\\documents\\github\\text-speech-translator\\.venv\\lib\\site-packages (0.2.0)\n",
      "Requirement already satisfied: torch in c:\\users\\hp\\documents\\github\\text-speech-translator\\.venv\\lib\\site-packages (2.2.0)\n",
      "Requirement already satisfied: torchvision in c:\\users\\hp\\documents\\github\\text-speech-translator\\.venv\\lib\\site-packages (0.17.0)\n",
      "Requirement already satisfied: torchaudio in c:\\users\\hp\\documents\\github\\text-speech-translator\\.venv\\lib\\site-packages (2.2.0)\n",
      "Collecting transformers==4.30.2\n",
      "  Downloading transformers-4.30.2-py3-none-any.whl.metadata (113 kB)\n",
      "     ---------------------------------------- 0.0/113.6 kB ? eta -:--:--\n",
      "     -------------------------------------- 113.6/113.6 kB 6.5 MB/s eta 0:00:00\n",
      "Requirement already satisfied: filelock in c:\\users\\hp\\documents\\github\\text-speech-translator\\.venv\\lib\\site-packages (from transformers==4.30.2) (3.13.1)\n",
      "Requirement already satisfied: huggingface-hub<1.0,>=0.14.1 in c:\\users\\hp\\documents\\github\\text-speech-translator\\.venv\\lib\\site-packages (from transformers==4.30.2) (0.20.3)\n",
      "Requirement already satisfied: numpy>=1.17 in c:\\users\\hp\\documents\\github\\text-speech-translator\\.venv\\lib\\site-packages (from transformers==4.30.2) (1.26.4)\n",
      "Requirement already satisfied: packaging>=20.0 in c:\\users\\hp\\documents\\github\\text-speech-translator\\.venv\\lib\\site-packages (from transformers==4.30.2) (23.2)\n",
      "Requirement already satisfied: pyyaml>=5.1 in c:\\users\\hp\\documents\\github\\text-speech-translator\\.venv\\lib\\site-packages (from transformers==4.30.2) (6.0.1)\n",
      "Requirement already satisfied: regex!=2019.12.17 in c:\\users\\hp\\documents\\github\\text-speech-translator\\.venv\\lib\\site-packages (from transformers==4.30.2) (2023.12.25)\n",
      "Requirement already satisfied: requests in c:\\users\\hp\\documents\\github\\text-speech-translator\\.venv\\lib\\site-packages (from transformers==4.30.2) (2.31.0)\n",
      "Collecting tokenizers!=0.11.3,<0.14,>=0.11.1 (from transformers==4.30.2)\n",
      "  Downloading tokenizers-0.13.3-cp311-cp311-win_amd64.whl.metadata (6.9 kB)\n",
      "Requirement already satisfied: safetensors>=0.3.1 in c:\\users\\hp\\documents\\github\\text-speech-translator\\.venv\\lib\\site-packages (from transformers==4.30.2) (0.4.2)\n",
      "Requirement already satisfied: tqdm>=4.27 in c:\\users\\hp\\documents\\github\\text-speech-translator\\.venv\\lib\\site-packages (from transformers==4.30.2) (4.66.2)\n",
      "Requirement already satisfied: altair<6,>=4.0 in c:\\users\\hp\\documents\\github\\text-speech-translator\\.venv\\lib\\site-packages (from streamlit) (5.2.0)\n",
      "Requirement already satisfied: blinker<2,>=1.0.0 in c:\\users\\hp\\documents\\github\\text-speech-translator\\.venv\\lib\\site-packages (from streamlit) (1.7.0)\n",
      "Requirement already satisfied: cachetools<6,>=4.0 in c:\\users\\hp\\documents\\github\\text-speech-translator\\.venv\\lib\\site-packages (from streamlit) (5.3.2)\n",
      "Requirement already satisfied: click<9,>=7.0 in c:\\users\\hp\\documents\\github\\text-speech-translator\\.venv\\lib\\site-packages (from streamlit) (8.1.7)\n",
      "Requirement already satisfied: importlib-metadata<8,>=1.4 in c:\\users\\hp\\documents\\github\\text-speech-translator\\.venv\\lib\\site-packages (from streamlit) (7.0.1)\n",
      "Requirement already satisfied: pandas<3,>=1.3.0 in c:\\users\\hp\\documents\\github\\text-speech-translator\\.venv\\lib\\site-packages (from streamlit) (2.2.0)\n",
      "Requirement already satisfied: pillow<11,>=7.1.0 in c:\\users\\hp\\documents\\github\\text-speech-translator\\.venv\\lib\\site-packages (from streamlit) (10.2.0)\n",
      "Requirement already satisfied: protobuf<5,>=3.20 in c:\\users\\hp\\documents\\github\\text-speech-translator\\.venv\\lib\\site-packages (from streamlit) (4.25.3)\n",
      "Requirement already satisfied: pyarrow>=7.0 in c:\\users\\hp\\documents\\github\\text-speech-translator\\.venv\\lib\\site-packages (from streamlit) (15.0.0)\n",
      "Requirement already satisfied: python-dateutil<3,>=2.7.3 in c:\\users\\hp\\documents\\github\\text-speech-translator\\.venv\\lib\\site-packages (from streamlit) (2.8.2)\n",
      "Requirement already satisfied: rich<14,>=10.14.0 in c:\\users\\hp\\documents\\github\\text-speech-translator\\.venv\\lib\\site-packages (from streamlit) (13.7.0)\n",
      "Requirement already satisfied: tenacity<9,>=8.1.0 in c:\\users\\hp\\documents\\github\\text-speech-translator\\.venv\\lib\\site-packages (from streamlit) (8.2.3)\n",
      "Requirement already satisfied: toml<2,>=0.10.1 in c:\\users\\hp\\documents\\github\\text-speech-translator\\.venv\\lib\\site-packages (from streamlit) (0.10.2)\n",
      "Requirement already satisfied: typing-extensions<5,>=4.3.0 in c:\\users\\hp\\documents\\github\\text-speech-translator\\.venv\\lib\\site-packages (from streamlit) (4.9.0)\n",
      "Requirement already satisfied: tzlocal<6,>=1.1 in c:\\users\\hp\\documents\\github\\text-speech-translator\\.venv\\lib\\site-packages (from streamlit) (5.2)\n",
      "Requirement already satisfied: validators<1,>=0.2 in c:\\users\\hp\\documents\\github\\text-speech-translator\\.venv\\lib\\site-packages (from streamlit) (0.22.0)\n",
      "Requirement already satisfied: gitpython!=3.1.19,<4,>=3.0.7 in c:\\users\\hp\\documents\\github\\text-speech-translator\\.venv\\lib\\site-packages (from streamlit) (3.1.42)\n",
      "Requirement already satisfied: pydeck<1,>=0.8.0b4 in c:\\users\\hp\\documents\\github\\text-speech-translator\\.venv\\lib\\site-packages (from streamlit) (0.8.1b0)\n",
      "Requirement already satisfied: tornado<7,>=6.0.3 in c:\\users\\hp\\documents\\github\\text-speech-translator\\.venv\\lib\\site-packages (from streamlit) (6.4)\n",
      "Requirement already satisfied: watchdog>=2.1.5 in c:\\users\\hp\\documents\\github\\text-speech-translator\\.venv\\lib\\site-packages (from streamlit) (4.0.0)\n",
      "Requirement already satisfied: sympy in c:\\users\\hp\\documents\\github\\text-speech-translator\\.venv\\lib\\site-packages (from torch) (1.12)\n",
      "Requirement already satisfied: networkx in c:\\users\\hp\\documents\\github\\text-speech-translator\\.venv\\lib\\site-packages (from torch) (3.2.1)\n",
      "Requirement already satisfied: jinja2 in c:\\users\\hp\\documents\\github\\text-speech-translator\\.venv\\lib\\site-packages (from torch) (3.1.3)\n",
      "Requirement already satisfied: fsspec in c:\\users\\hp\\documents\\github\\text-speech-translator\\.venv\\lib\\site-packages (from torch) (2024.2.0)\n",
      "Requirement already satisfied: jsonschema>=3.0 in c:\\users\\hp\\documents\\github\\text-speech-translator\\.venv\\lib\\site-packages (from altair<6,>=4.0->streamlit) (4.21.1)\n",
      "Requirement already satisfied: toolz in c:\\users\\hp\\documents\\github\\text-speech-translator\\.venv\\lib\\site-packages (from altair<6,>=4.0->streamlit) (0.12.1)\n",
      "Requirement already satisfied: colorama in c:\\users\\hp\\documents\\github\\text-speech-translator\\.venv\\lib\\site-packages (from click<9,>=7.0->streamlit) (0.4.6)\n",
      "Requirement already satisfied: gitdb<5,>=4.0.1 in c:\\users\\hp\\documents\\github\\text-speech-translator\\.venv\\lib\\site-packages (from gitpython!=3.1.19,<4,>=3.0.7->streamlit) (4.0.11)\n",
      "Requirement already satisfied: zipp>=0.5 in c:\\users\\hp\\documents\\github\\text-speech-translator\\.venv\\lib\\site-packages (from importlib-metadata<8,>=1.4->streamlit) (3.17.0)\n",
      "Requirement already satisfied: pytz>=2020.1 in c:\\users\\hp\\documents\\github\\text-speech-translator\\.venv\\lib\\site-packages (from pandas<3,>=1.3.0->streamlit) (2024.1)\n",
      "Requirement already satisfied: tzdata>=2022.7 in c:\\users\\hp\\documents\\github\\text-speech-translator\\.venv\\lib\\site-packages (from pandas<3,>=1.3.0->streamlit) (2024.1)\n",
      "Requirement already satisfied: MarkupSafe>=2.0 in c:\\users\\hp\\documents\\github\\text-speech-translator\\.venv\\lib\\site-packages (from jinja2->torch) (2.1.5)\n",
      "Requirement already satisfied: six>=1.5 in c:\\users\\hp\\documents\\github\\text-speech-translator\\.venv\\lib\\site-packages (from python-dateutil<3,>=2.7.3->streamlit) (1.16.0)\n",
      "Requirement already satisfied: charset-normalizer<4,>=2 in c:\\users\\hp\\documents\\github\\text-speech-translator\\.venv\\lib\\site-packages (from requests->transformers==4.30.2) (3.3.2)\n",
      "Requirement already satisfied: idna<4,>=2.5 in c:\\users\\hp\\documents\\github\\text-speech-translator\\.venv\\lib\\site-packages (from requests->transformers==4.30.2) (3.6)\n",
      "Requirement already satisfied: urllib3<3,>=1.21.1 in c:\\users\\hp\\documents\\github\\text-speech-translator\\.venv\\lib\\site-packages (from requests->transformers==4.30.2) (2.2.1)\n",
      "Requirement already satisfied: certifi>=2017.4.17 in c:\\users\\hp\\documents\\github\\text-speech-translator\\.venv\\lib\\site-packages (from requests->transformers==4.30.2) (2024.2.2)\n",
      "Requirement already satisfied: markdown-it-py>=2.2.0 in c:\\users\\hp\\documents\\github\\text-speech-translator\\.venv\\lib\\site-packages (from rich<14,>=10.14.0->streamlit) (3.0.0)\n",
      "Requirement already satisfied: pygments<3.0.0,>=2.13.0 in c:\\users\\hp\\documents\\github\\text-speech-translator\\.venv\\lib\\site-packages (from rich<14,>=10.14.0->streamlit) (2.17.2)\n",
      "Requirement already satisfied: mpmath>=0.19 in c:\\users\\hp\\documents\\github\\text-speech-translator\\.venv\\lib\\site-packages (from sympy->torch) (1.3.0)\n",
      "Requirement already satisfied: smmap<6,>=3.0.1 in c:\\users\\hp\\documents\\github\\text-speech-translator\\.venv\\lib\\site-packages (from gitdb<5,>=4.0.1->gitpython!=3.1.19,<4,>=3.0.7->streamlit) (5.0.1)\n",
      "Requirement already satisfied: attrs>=22.2.0 in c:\\users\\hp\\documents\\github\\text-speech-translator\\.venv\\lib\\site-packages (from jsonschema>=3.0->altair<6,>=4.0->streamlit) (23.2.0)\n",
      "Requirement already satisfied: jsonschema-specifications>=2023.03.6 in c:\\users\\hp\\documents\\github\\text-speech-translator\\.venv\\lib\\site-packages (from jsonschema>=3.0->altair<6,>=4.0->streamlit) (2023.12.1)\n",
      "Requirement already satisfied: referencing>=0.28.4 in c:\\users\\hp\\documents\\github\\text-speech-translator\\.venv\\lib\\site-packages (from jsonschema>=3.0->altair<6,>=4.0->streamlit) (0.33.0)\n",
      "Requirement already satisfied: rpds-py>=0.7.1 in c:\\users\\hp\\documents\\github\\text-speech-translator\\.venv\\lib\\site-packages (from jsonschema>=3.0->altair<6,>=4.0->streamlit) (0.18.0)\n",
      "Requirement already satisfied: mdurl~=0.1 in c:\\users\\hp\\documents\\github\\text-speech-translator\\.venv\\lib\\site-packages (from markdown-it-py>=2.2.0->rich<14,>=10.14.0->streamlit) (0.1.2)\n",
      "Downloading transformers-4.30.2-py3-none-any.whl (7.2 MB)\n",
      "   ---------------------------------------- 0.0/7.2 MB ? eta -:--:--\n",
      "   ----- ---------------------------------- 0.9/7.2 MB 29.7 MB/s eta 0:00:01\n",
      "   -------- ------------------------------- 1.5/7.2 MB 23.6 MB/s eta 0:00:01\n",
      "   ---------- ----------------------------- 1.9/7.2 MB 15.3 MB/s eta 0:00:01\n",
      "   ------------ --------------------------- 2.3/7.2 MB 13.3 MB/s eta 0:00:01\n",
      "   ------------- -------------------------- 2.5/7.2 MB 11.4 MB/s eta 0:00:01\n",
      "   --------------- ------------------------ 2.8/7.2 MB 10.6 MB/s eta 0:00:01\n",
      "   ---------------- ----------------------- 3.0/7.2 MB 9.6 MB/s eta 0:00:01\n",
      "   ------------------ --------------------- 3.4/7.2 MB 9.4 MB/s eta 0:00:01\n",
      "   -------------------- ------------------- 3.7/7.2 MB 9.1 MB/s eta 0:00:01\n",
      "   --------------------- ------------------ 3.9/7.2 MB 8.6 MB/s eta 0:00:01\n",
      "   ---------------------- ----------------- 4.0/7.2 MB 8.3 MB/s eta 0:00:01\n",
      "   ----------------------- ---------------- 4.2/7.2 MB 7.9 MB/s eta 0:00:01\n",
      "   ------------------------ --------------- 4.3/7.2 MB 7.4 MB/s eta 0:00:01\n",
      "   ------------------------ --------------- 4.5/7.2 MB 7.0 MB/s eta 0:00:01\n",
      "   ------------------------- -------------- 4.6/7.2 MB 6.7 MB/s eta 0:00:01\n",
      "   -------------------------- ------------- 4.8/7.2 MB 6.5 MB/s eta 0:00:01\n",
      "   --------------------------- ------------ 4.9/7.2 MB 6.3 MB/s eta 0:00:01\n",
      "   ---------------------------- ----------- 5.0/7.2 MB 6.2 MB/s eta 0:00:01\n",
      "   ----------------------------- ---------- 5.2/7.2 MB 6.0 MB/s eta 0:00:01\n",
      "   ------------------------------ --------- 5.4/7.2 MB 5.8 MB/s eta 0:00:01\n",
      "   ------------------------------ --------- 5.5/7.2 MB 5.8 MB/s eta 0:00:01\n",
      "   ------------------------------- -------- 5.7/7.2 MB 5.7 MB/s eta 0:00:01\n",
      "   -------------------------------- ------- 5.9/7.2 MB 5.6 MB/s eta 0:00:01\n",
      "   ---------------------------------- ----- 6.1/7.2 MB 5.5 MB/s eta 0:00:01\n",
      "   ----------------------------------- ---- 6.3/7.2 MB 5.5 MB/s eta 0:00:01\n",
      "   ------------------------------------ --- 6.5/7.2 MB 5.4 MB/s eta 0:00:01\n",
      "   ------------------------------------- -- 6.7/7.2 MB 5.4 MB/s eta 0:00:01\n",
      "   -------------------------------------- - 6.9/7.2 MB 5.3 MB/s eta 0:00:01\n",
      "   ---------------------------------------  7.1/7.2 MB 5.3 MB/s eta 0:00:01\n",
      "   ---------------------------------------  7.2/7.2 MB 5.3 MB/s eta 0:00:01\n",
      "   ---------------------------------------- 7.2/7.2 MB 5.1 MB/s eta 0:00:00\n",
      "Downloading tokenizers-0.13.3-cp311-cp311-win_amd64.whl (3.5 MB)\n",
      "   ---------------------------------------- 0.0/3.5 MB ? eta -:--:--\n",
      "   -- ------------------------------------- 0.2/3.5 MB 6.9 MB/s eta 0:00:01\n",
      "   ----- ---------------------------------- 0.5/3.5 MB 5.6 MB/s eta 0:00:01\n",
      "   ------- -------------------------------- 0.7/3.5 MB 5.2 MB/s eta 0:00:01\n",
      "   ---------- ----------------------------- 0.9/3.5 MB 5.3 MB/s eta 0:00:01\n",
      "   ------------- -------------------------- 1.2/3.5 MB 5.5 MB/s eta 0:00:01\n",
      "   ----------------- ---------------------- 1.5/3.5 MB 5.7 MB/s eta 0:00:01\n",
      "   -------------------- ------------------- 1.8/3.5 MB 5.7 MB/s eta 0:00:01\n",
      "   ------------------------ --------------- 2.2/3.5 MB 6.0 MB/s eta 0:00:01\n",
      "   ---------------------------- ----------- 2.5/3.5 MB 6.1 MB/s eta 0:00:01\n",
      "   -------------------------------- ------- 2.8/3.5 MB 6.2 MB/s eta 0:00:01\n",
      "   ------------------------------------ --- 3.2/3.5 MB 6.4 MB/s eta 0:00:01\n",
      "   ---------------------------------------  3.5/3.5 MB 6.3 MB/s eta 0:00:01\n",
      "   ---------------------------------------- 3.5/3.5 MB 6.2 MB/s eta 0:00:00\n",
      "Installing collected packages: tokenizers, transformers\n",
      "  Attempting uninstall: tokenizers\n",
      "    Found existing installation: tokenizers 0.15.2\n",
      "    Uninstalling tokenizers-0.15.2:\n",
      "      Successfully uninstalled tokenizers-0.15.2\n",
      "  Attempting uninstall: transformers\n",
      "    Found existing installation: transformers 4.39.0.dev0\n",
      "    Uninstalling transformers-4.39.0.dev0:\n",
      "      Successfully uninstalled transformers-4.39.0.dev0\n",
      "Successfully installed tokenizers-0.13.3 transformers-4.30.2\n",
      "Note: you may need to restart the kernel to use updated packages.\n"
     ]
    },
    {
     "name": "stderr",
     "output_type": "stream",
     "text": [
      "  WARNING: Retrying (Retry(total=4, connect=None, read=None, redirect=None, status=None)) after connection broken by 'NewConnectionError('<pip._vendor.urllib3.connection.HTTPSConnection object at 0x00000193B8220DD0>: Failed to establish a new connection: [Errno 11001] getaddrinfo failed')': /packages/5b/0b/e45d26ccd28568013523e04f325432ea88a442b4e3020b757cf4361f0120/transformers-4.30.2-py3-none-any.whl.metadata\n",
      "  WARNING: Retrying (Retry(total=3, connect=None, read=None, redirect=None, status=None)) after connection broken by 'NewConnectionError('<pip._vendor.urllib3.connection.HTTPSConnection object at 0x00000193B8221250>: Failed to establish a new connection: [Errno 11001] getaddrinfo failed')': /packages/5b/0b/e45d26ccd28568013523e04f325432ea88a442b4e3020b757cf4361f0120/transformers-4.30.2-py3-none-any.whl.metadata\n"
     ]
    },
    {
     "name": "stdout",
     "output_type": "stream",
     "text": [
      "Collecting git+https://github.com/huggingface/transformers.git\n",
      "  Cloning https://github.com/huggingface/transformers.git to c:\\users\\hp\\appdata\\local\\temp\\pip-req-build-sxttd66o\n",
      "  Resolved https://github.com/huggingface/transformers.git to commit 2cc8cf6ce7ae0416561acbb639df4bbc5f409b6f\n",
      "  Installing build dependencies: started\n",
      "  Installing build dependencies: finished with status 'done'\n",
      "  Getting requirements to build wheel: started\n",
      "  Getting requirements to build wheel: finished with status 'done'\n",
      "  Installing backend dependencies: started\n",
      "  Installing backend dependencies: finished with status 'done'\n",
      "  Preparing metadata (pyproject.toml): started\n",
      "  Preparing metadata (pyproject.toml): finished with status 'done'\n",
      "Requirement already satisfied: filelock in c:\\users\\hp\\documents\\github\\text-speech-translator\\.venv\\lib\\site-packages (from transformers==4.39.0.dev0) (3.13.1)\n",
      "Requirement already satisfied: huggingface-hub<1.0,>=0.19.3 in c:\\users\\hp\\documents\\github\\text-speech-translator\\.venv\\lib\\site-packages (from transformers==4.39.0.dev0) (0.20.3)\n",
      "Requirement already satisfied: numpy>=1.17 in c:\\users\\hp\\documents\\github\\text-speech-translator\\.venv\\lib\\site-packages (from transformers==4.39.0.dev0) (1.26.4)\n",
      "Requirement already satisfied: packaging>=20.0 in c:\\users\\hp\\documents\\github\\text-speech-translator\\.venv\\lib\\site-packages (from transformers==4.39.0.dev0) (23.2)\n",
      "Requirement already satisfied: pyyaml>=5.1 in c:\\users\\hp\\documents\\github\\text-speech-translator\\.venv\\lib\\site-packages (from transformers==4.39.0.dev0) (6.0.1)\n",
      "Requirement already satisfied: regex!=2019.12.17 in c:\\users\\hp\\documents\\github\\text-speech-translator\\.venv\\lib\\site-packages (from transformers==4.39.0.dev0) (2023.12.25)\n",
      "Requirement already satisfied: requests in c:\\users\\hp\\documents\\github\\text-speech-translator\\.venv\\lib\\site-packages (from transformers==4.39.0.dev0) (2.31.0)\n",
      "Collecting tokenizers<0.19,>=0.14 (from transformers==4.39.0.dev0)\n",
      "  Using cached tokenizers-0.15.2-cp311-none-win_amd64.whl.metadata (6.8 kB)\n",
      "Requirement already satisfied: safetensors>=0.4.1 in c:\\users\\hp\\documents\\github\\text-speech-translator\\.venv\\lib\\site-packages (from transformers==4.39.0.dev0) (0.4.2)\n",
      "Requirement already satisfied: tqdm>=4.27 in c:\\users\\hp\\documents\\github\\text-speech-translator\\.venv\\lib\\site-packages (from transformers==4.39.0.dev0) (4.66.2)\n",
      "Requirement already satisfied: fsspec>=2023.5.0 in c:\\users\\hp\\documents\\github\\text-speech-translator\\.venv\\lib\\site-packages (from huggingface-hub<1.0,>=0.19.3->transformers==4.39.0.dev0) (2024.2.0)\n",
      "Requirement already satisfied: typing-extensions>=3.7.4.3 in c:\\users\\hp\\documents\\github\\text-speech-translator\\.venv\\lib\\site-packages (from huggingface-hub<1.0,>=0.19.3->transformers==4.39.0.dev0) (4.9.0)\n",
      "Requirement already satisfied: colorama in c:\\users\\hp\\documents\\github\\text-speech-translator\\.venv\\lib\\site-packages (from tqdm>=4.27->transformers==4.39.0.dev0) (0.4.6)\n",
      "Requirement already satisfied: charset-normalizer<4,>=2 in c:\\users\\hp\\documents\\github\\text-speech-translator\\.venv\\lib\\site-packages (from requests->transformers==4.39.0.dev0) (3.3.2)\n",
      "Requirement already satisfied: idna<4,>=2.5 in c:\\users\\hp\\documents\\github\\text-speech-translator\\.venv\\lib\\site-packages (from requests->transformers==4.39.0.dev0) (3.6)\n",
      "Requirement already satisfied: urllib3<3,>=1.21.1 in c:\\users\\hp\\documents\\github\\text-speech-translator\\.venv\\lib\\site-packages (from requests->transformers==4.39.0.dev0) (2.2.1)\n",
      "Requirement already satisfied: certifi>=2017.4.17 in c:\\users\\hp\\documents\\github\\text-speech-translator\\.venv\\lib\\site-packages (from requests->transformers==4.39.0.dev0) (2024.2.2)\n",
      "Using cached tokenizers-0.15.2-cp311-none-win_amd64.whl (2.2 MB)\n",
      "Building wheels for collected packages: transformers\n",
      "  Building wheel for transformers (pyproject.toml): started\n",
      "  Building wheel for transformers (pyproject.toml): finished with status 'done'\n",
      "  Created wheel for transformers: filename=transformers-4.39.0.dev0-py3-none-any.whl size=8552472 sha256=3ddb9d0c140a98180025321411e49c7dcf019aee1b45f5db7b20898ca0343975\n",
      "  Stored in directory: C:\\Users\\Hp\\AppData\\Local\\Temp\\pip-ephem-wheel-cache-o4wb1jau\\wheels\\32\\4b\\78\\f195c684dd3a9ed21f3b39fe8f85b48df7918581b6437be143\n",
      "Successfully built transformers\n",
      "Installing collected packages: tokenizers, transformers\n",
      "  Attempting uninstall: tokenizers\n",
      "    Found existing installation: tokenizers 0.13.3\n",
      "    Uninstalling tokenizers-0.13.3:\n",
      "      Successfully uninstalled tokenizers-0.13.3\n",
      "  Attempting uninstall: transformers\n",
      "    Found existing installation: transformers 4.30.2\n",
      "    Uninstalling transformers-4.30.2:\n",
      "      Successfully uninstalled transformers-4.30.2\n",
      "Successfully installed tokenizers-0.15.2 transformers-4.39.0.dev0\n",
      "Note: you may need to restart the kernel to use updated packages.\n"
     ]
    },
    {
     "name": "stderr",
     "output_type": "stream",
     "text": [
      "  Running command git clone --filter=blob:none --quiet https://github.com/huggingface/transformers.git 'C:\\Users\\Hp\\AppData\\Local\\Temp\\pip-req-build-sxttd66o'\n"
     ]
    }
   ],
   "source": [
    "%pip install streamlit sentencepiece torch torchvision torchaudio transformers==4.30.2\n",
    "\n",
    "%pip install git+https://github.com/huggingface/transformers.git"
   ]
  },
  {
   "cell_type": "code",
   "execution_count": 2,
   "metadata": {},
   "outputs": [],
   "source": [
    "import shutil\n",
    "import os\n",
    "import subprocess as sb"
   ]
  },
  {
   "cell_type": "markdown",
   "metadata": {},
   "source": [
    "# Extract the downloaded zip file"
   ]
  },
  {
   "cell_type": "code",
   "execution_count": 3,
   "metadata": {},
   "outputs": [],
   "source": [
    "shutil.unpack_archive(\"ngrok-v3-stable-windows-386.zip\")"
   ]
  },
  {
   "cell_type": "markdown",
   "metadata": {},
   "source": [
    "# Start ngrok"
   ]
  },
  {
   "cell_type": "code",
   "execution_count": 4,
   "metadata": {},
   "outputs": [
    {
     "data": {
      "text/plain": [
       "<Popen: returncode: None args: ['./ngrok', 'http', '8501']>"
      ]
     },
     "execution_count": 4,
     "metadata": {},
     "output_type": "execute_result"
    }
   ],
   "source": [
    "sb.Popen([\"./ngrok\", \"http\", \"8501\"])"
   ]
  },
  {
   "cell_type": "markdown",
   "metadata": {},
   "source": [
    "# Run Streamlit app"
   ]
  },
  {
   "cell_type": "code",
   "execution_count": null,
   "metadata": {},
   "outputs": [],
   "source": [
    "os.system(\"streamlit run app.py\")"
   ]
  }
 ],
 "metadata": {
  "kernelspec": {
   "display_name": ".venv",
   "language": "python",
   "name": "python3"
  },
  "language_info": {
   "codemirror_mode": {
    "name": "ipython",
    "version": 3
   },
   "file_extension": ".py",
   "mimetype": "text/x-python",
   "name": "python",
   "nbconvert_exporter": "python",
   "pygments_lexer": "ipython3",
   "version": "3.11.4"
  }
 },
 "nbformat": 4,
 "nbformat_minor": 2
}
